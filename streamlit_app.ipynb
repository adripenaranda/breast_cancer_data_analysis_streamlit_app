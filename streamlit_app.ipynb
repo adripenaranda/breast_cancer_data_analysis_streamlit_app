{
 "cells": [
  {
   "cell_type": "code",
   "execution_count": 1,
   "metadata": {},
   "outputs": [],
   "source": [
    "import streamlit as st\n",
    "import numpy as np\n",
    "import pandas as pd\n",
    "import pickle\n",
    "import tensorflow as tf\n",
    "from tensorflow.keras.models import load_model\n",
    "import os"
   ]
  },
  {
   "cell_type": "code",
   "execution_count": 2,
   "metadata": {},
   "outputs": [],
   "source": [
    "# Load the model and scaler\n",
    "model = load_model('model.keras')\n",
    "with open('scaler.pkl', 'rb') as f:\n",
    "    scaler = pickle.load(f)"
   ]
  },
  {
   "cell_type": "code",
   "execution_count": 3,
   "metadata": {},
   "outputs": [
    {
     "name": "stderr",
     "output_type": "stream",
     "text": [
      "2024-08-06 23:32:18.318 \n",
      "  \u001b[33m\u001b[1mWarning:\u001b[0m to view this Streamlit app on a browser, run it with the following\n",
      "  command:\n",
      "\n",
      "    streamlit run c:\\Users\\adria\\Documents\\assignment_4_ann\\venv\\Lib\\site-packages\\ipykernel_launcher.py [ARGUMENTS]\n"
     ]
    },
    {
     "data": {
      "text/plain": [
       "DeltaGenerator()"
      ]
     },
     "execution_count": 3,
     "metadata": {},
     "output_type": "execute_result"
    }
   ],
   "source": [
    "# Streamlit app title\n",
    "st.title(\"Breast Cancer Prediction App\")"
   ]
  },
  {
   "cell_type": "code",
   "execution_count": 4,
   "metadata": {},
   "outputs": [
    {
     "data": {
      "text/plain": [
       "DeltaGenerator(_root_container=1, _parent=DeltaGenerator())"
      ]
     },
     "execution_count": 4,
     "metadata": {},
     "output_type": "execute_result"
    }
   ],
   "source": [
    "# User inputs for model features\n",
    "st.sidebar.header(\"Input Features\")"
   ]
  },
  {
   "cell_type": "code",
   "execution_count": 8,
   "metadata": {},
   "outputs": [],
   "source": [
    "def user_input_features():\n",
    "    mean_radius = st.sidebar.slider(\"Mean Radius\", 6.0, 30.0, 14.0)\n",
    "    mean_texture = st.sidebar.slider(\"Mean Texture\", 9.0, 40.0, 20.0)\n",
    "    mean_perimeter = st.sidebar.slider(\"Mean Perimeter\", 40.0, 200.0, 90.0)\n",
    "    mean_area = st.sidebar.slider(\"Mean Area\", 140.0, 2500.0, 700.0)\n",
    "    mean_smoothness = st.sidebar.slider(\"Mean Smoothness\", 0.05, 0.2, 0.1)\n",
    "    \n",
    "    # Add other necessary feature inputs here\n",
    "    # Ensure that the order of features matches the order expected by the model and scaler\n",
    "    data = {\n",
    "        'mean_radius': mean_radius,\n",
    "        'mean_texture': mean_texture,\n",
    "        'mean_perimeter': mean_perimeter,\n",
    "        'mean_area': mean_area,\n",
    "        'mean_smoothness': mean_smoothness\n",
    "        # Add other features in the correct order\n",
    "    }\n",
    "    features = pd.DataFrame(data, index=[0])\n",
    "    return features\n",
    "\n",
    "input_df = user_input_features()"
   ]
  },
  {
   "cell_type": "code",
   "execution_count": 9,
   "metadata": {},
   "outputs": [],
   "source": [
    "# Ensure the input features match the order and number expected by the scaler and model\n",
    "expected_features = ['mean_radius', 'mean_texture', 'mean_perimeter', 'mean_area', 'mean_smoothness']"
   ]
  },
  {
   "cell_type": "code",
   "execution_count": 10,
   "metadata": {},
   "outputs": [],
   "source": [
    "if list(input_df.columns) != expected_features:\n",
    "    st.error(\"Input features do not match the expected features\")\n",
    "    st.stop()"
   ]
  }
 ],
 "metadata": {
  "kernelspec": {
   "display_name": "venv",
   "language": "python",
   "name": "python3"
  },
  "language_info": {
   "codemirror_mode": {
    "name": "ipython",
    "version": 3
   },
   "file_extension": ".py",
   "mimetype": "text/x-python",
   "name": "python",
   "nbconvert_exporter": "python",
   "pygments_lexer": "ipython3",
   "version": "3.11.3"
  }
 },
 "nbformat": 4,
 "nbformat_minor": 2
}
